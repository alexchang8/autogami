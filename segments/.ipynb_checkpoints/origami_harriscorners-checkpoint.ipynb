{
 "cells": [
  {
   "cell_type": "code",
   "execution_count": 56,
   "metadata": {
    "scrolled": true
   },
   "outputs": [],
   "source": [
    "import cv2\n",
    "import numpy as np\n",
    "import matplotlib as plt\n",
    "import random"
   ]
  },
  {
   "cell_type": "markdown",
   "metadata": {},
   "source": [
    "Define Functions"
   ]
  },
  {
   "cell_type": "code",
   "execution_count": 66,
   "metadata": {},
   "outputs": [],
   "source": [
    "def isSegment(p1,p2, bin_im, ksize, sample_num, pvote, cvote):\n",
    "    x1, y1 = p1\n",
    "    x2, y2 = p2\n",
    "    \n",
    "    x1, x2, y1, y2 = int(x1), int(x2), int(y1), int(y2)\n",
    "    \n",
    "    x_disp = x2- x1\n",
    "    y_disp = y2- y1\n",
    "    \n",
    "    x_step = x_disp // (sample_num + 1)\n",
    "    y_step = y_disp // (sample_num + 1)\n",
    "    \n",
    "    vote = 0\n",
    "\n",
    "    for mult in range(1, sample_num + 1):  \n",
    "        xc, yc = x1 + mult*x_step, y1 + mult*y_step\n",
    "        view = bin_im[xc - ksize: xc + ksize, yc - ksize: yc + ksize]\n",
    "        \n",
    "        if np.sum(view) >= pvote:\n",
    "            vote += 1 \n",
    "\n",
    "    return vote >= cvote"
   ]
  },
  {
   "cell_type": "code",
   "execution_count": 67,
   "metadata": {},
   "outputs": [],
   "source": [
    "def getCorners(img):   \n",
    "    gray = np.float32(img)\n",
    "    dst = cv2.cornerHarris(gray,2,3,0.04)\n",
    "    ret, dst = cv2.threshold(dst,0.1*dst.max(),255,0)\n",
    "    dst = np.uint8(dst)\n",
    "    ret, labels, stats, centroids = cv2.connectedComponentsWithStats(dst)\n",
    "    criteria = (cv2.TERM_CRITERIA_EPS + cv2.TERM_CRITERIA_MAX_ITER, 100, 0.001)\n",
    "    corners = cv2.cornerSubPix(gray,np.float32(centroids),(5,5),(-1,-1),criteria)\n",
    "    \n",
    "    return corners"
   ]
  },
  {
   "cell_type": "code",
   "execution_count": 68,
   "metadata": {},
   "outputs": [],
   "source": [
    "def getSegments(img, corners, ksize = 2, sample_num = 15, pvote = 3, cvote = 5):\n",
    "    segments = []\n",
    "\n",
    "    for i in range(len(corners)):\n",
    "        for j in range(i + 1, len(corners)):\n",
    "            segments.append((i, j))\n",
    "            \n",
    "    return segments\n"
   ]
  },
  {
   "cell_type": "markdown",
   "metadata": {},
   "source": [
    "## Test Functions"
   ]
  },
  {
   "cell_type": "markdown",
   "metadata": {},
   "source": [
    "##### hyperparameters"
   ]
  },
  {
   "cell_type": "code",
   "execution_count": 69,
   "metadata": {},
   "outputs": [],
   "source": [
    "PVOTE = 1\n",
    "CVOTE = 3\n",
    "KSIZE = 5\n",
    "\n",
    "img_directory = \"images/\""
   ]
  },
  {
   "cell_type": "markdown",
   "metadata": {},
   "source": [
    "##### test script"
   ]
  },
  {
   "cell_type": "code",
   "execution_count": 70,
   "metadata": {},
   "outputs": [
    {
     "name": "stdout",
     "output_type": "stream",
     "text": [
      "DETECTED SEGMENTS\n",
      "((195.16862, 195.16862),(393.40866, 394.28568))\n",
      "((4.5914106, 3.714403),(393.40866, 394.28568))\n",
      "((199.0733, 1.5104129),(393.40866, 394.28568))\n",
      "((393.40863, 3.7143555),(393.40866, 394.28568))\n",
      "((4.591377, 3.714359),(393.40866, 394.28568))\n",
      "((393.4083, 3.7148285),(393.40866, 394.28568))\n",
      "((3.714403, 4.5914106),(393.40866, 394.28568))\n",
      "((3.714359, 4.591377),(393.40866, 394.28568))\n",
      "((394.28568, 4.591356),(393.40866, 394.28568))\n",
      "((394.28568, 4.5913553),(393.40866, 394.28568))\n",
      "((142.10863, 57.55931),(393.40866, 394.28568))\n",
      "((199.05034, 57.5),(393.40866, 394.28568))\n",
      "((255.89107, 57.559277),(393.40866, 394.28568))\n",
      "((199.05005, 57.5),(393.40866, 394.28568))\n",
      "((57.55931, 142.10863),(393.40866, 394.28568))\n",
      "((340.4407, 142.10867),(393.40866, 394.28568))\n",
      "((195.16809, 195.16809),(393.40866, 394.28568))\n",
      "((202.8326, 195.1674),(393.40866, 394.28568))\n",
      "((1.5104129, 199.0733),(393.40866, 394.28568))\n",
      "((396.48935, 199.07379),(393.40866, 394.28568))\n",
      "((57.5, 199.05034),(393.40866, 394.28568))\n",
      "((57.5, 199.05005),(393.40866, 394.28568))\n",
      "((340.5, 199.05034),(393.40866, 394.28568))\n",
      "((340.5, 199.05005),(393.40866, 394.28568))\n",
      "((195.1674, 202.8326),(393.40866, 394.28568))\n",
      "((202.83255, 202.83255),(393.40866, 394.28568))\n",
      "((57.559277, 255.89107),(393.40866, 394.28568))\n",
      "((340.4407, 255.89127),(393.40866, 394.28568))\n",
      "((142.10867, 340.4407),(393.40866, 394.28568))\n",
      "((199.05034, 340.5),(393.40866, 394.28568))\n",
      "((255.89127, 340.4407),(393.40866, 394.28568))\n",
      "((199.05005, 340.5),(393.40866, 394.28568))\n",
      "((3.7143555, 393.40863),(393.40866, 394.28568))\n",
      "((394.28568, 393.40866),(393.40866, 394.28568))\n",
      "((3.7148285, 393.4083),(393.40866, 394.28568))\n",
      "((394.2856, 393.40863),(393.40866, 394.28568))\n",
      "((4.591356, 394.28568),(393.40866, 394.28568))\n",
      "((393.40863, 394.2856),(393.40866, 394.28568))\n",
      "((199.07379, 396.48935),(393.40866, 394.28568))\n",
      "((4.5913553, 394.28568),(393.40866, 394.28568))\n",
      "((393.40866, 394.28568),(393.40866, 394.28568))\n"
     ]
    },
    {
     "data": {
      "text/plain": [
       "True"
      ]
     },
     "execution_count": 70,
     "metadata": {},
     "output_type": "execute_result"
    }
   ],
   "source": [
    "im = cv2.imread(img_directory + \"frog.png\")\n",
    "im = cv2.cvtColor(im, cv2.COLOR_BGR2GRAY)\n",
    "\n",
    "# \"Preps Image to be displayed\" - Lillian\n",
    "im_display = np.zeros(im.shape, dtype = np.uint8)\n",
    "im_display.fill(255)\n",
    "\n",
    "corners = getCorners(im > 250)\n",
    "segments = getSegments(im, corners, ksize = KSIZE, pvote = PVOTE, cvote = CVOTE)\n",
    "\n",
    "\n",
    "print(\"DETECTED SEGMENTS\")\n",
    "for i in segments:\n",
    "    x1, y1 = i\n",
    "    x2, y2 = segments.get(i)\n",
    "    cv2.line(im_display,(x1,y1), (x2,y2), (0,0,255),1) \n",
    "\n",
    "    print(\"(\"+ str(i) +\",\"+str(segments.get(i))+\")\")\n",
    "\n",
    "cv2.circle(im_display, (int(1.6140463), int(199.0812)), 2, (0,255,0), thickness=1, lineType=8, shift=0) \n",
    "cv2.circle(im_display, (int(196.46725), int(197.349)), 2, (0,255,0), thickness=1, lineType=8, shift=0) \n",
    "\n",
    "#test = isSegment((1.6140463, 199.0812),(196.46725, 197.349 ), img)\n",
    "#print test\n",
    "\n",
    "cv2.imwrite(img_directory + \"cornersdisplay\" + str(KSIZE) +  str(PVOTE) + str(CVOTE) + \".png\", im_display)\n",
    "cv2.imwrite(img_directory + \"frogcorners.png\", im)\n"
   ]
  }
 ],
 "metadata": {
  "kernelspec": {
   "display_name": "Python 3",
   "language": "python",
   "name": "python3"
  },
  "language_info": {
   "codemirror_mode": {
    "name": "ipython",
    "version": 3
   },
   "file_extension": ".py",
   "mimetype": "text/x-python",
   "name": "python",
   "nbconvert_exporter": "python",
   "pygments_lexer": "ipython3",
   "version": "3.6.5"
  }
 },
 "nbformat": 4,
 "nbformat_minor": 2
}
