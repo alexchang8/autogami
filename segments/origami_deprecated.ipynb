{
 "cells": [
  {
   "cell_type": "code",
   "execution_count": 181,
   "metadata": {},
   "outputs": [
    {
     "data": {
      "text/plain": [
       "True"
      ]
     },
     "execution_count": 181,
     "metadata": {},
     "output_type": "execute_result"
    }
   ],
   "source": [
    "\n",
    "# Python program to illustrate HoughLine \n",
    "# method for line detection \n",
    "import cv2 \n",
    "import numpy as np \n",
    "from skimage.morphology import skeletonize\n",
    "from skimage.util import invert\n",
    "\n",
    "  \n",
    "# Reading the required image in  \n",
    "# which operations are to be done.  \n",
    "# Make sure that the image is in the same  \n",
    "# directory in which this python program is \n",
    "img = cv2.imread('frog.png') \n",
    "img_invert = np.invert(img)\n",
    "\n",
    "width, height, extra = img.shape\n",
    "        \n",
    "img_display = np.zeros(img.shape,dtype=np.uint8)\n",
    "img_display.fill(255)\n",
    "cv2.imwrite('cannylines.jpg', img_invert) \n",
    "\n",
    "# Convert the img to grayscale \n",
    "gray = cv2.cvtColor(img,cv2.COLOR_BGR2GRAY) \n",
    "  \n",
    "# Apply edge detection method on the image \n",
    "edges = cv2.Canny(gray,100,200) \n",
    "\n",
    "# This returns an array of r and theta values \n",
    "lines = cv2.HoughLines(edges,1,np.pi/180,100) \n",
    "\n",
    "\n",
    "def isEdge(x1,y1,x2,y2,n):\n",
    "    if(x1-n < 0 or x1+n > width):\n",
    "        if(y1-n < 0 or y1+n > width):\n",
    "            return True\n",
    "    if(x2-n < 0 or x2+n > width):\n",
    "        if(y2-n < 0 or y2+n > width):\n",
    "            return True\n",
    "    return False\n",
    "\n",
    "# The below for loop runs till r and theta values  \n",
    "# are in the range of the 2d array \n",
    "\n",
    "for line in lines: \n",
    "    for r, theta in line:\n",
    "        # Stores the value of cos(theta) in a \n",
    "        a = np.cos(theta) \n",
    "\n",
    "        # Stores the value of sin(theta) in b \n",
    "        b = np.sin(theta) \n",
    "\n",
    "        # x0 stores the value rcos(theta) \n",
    "        x0 = a*r \n",
    "\n",
    "        # y0 stores the value rsin(theta) \n",
    "        y0 = b*r \n",
    "\n",
    "        # x1 stores the rounded off value of (rcos(theta)-1000sin(theta)) \n",
    "        x1 = int(x0 + 1000*(-b)) \n",
    "\n",
    "        # y1 stores the rounded off value of (rsin(theta)+1000cos(theta)) \n",
    "        y1 = int(y0 + 1000*(a)) \n",
    "\n",
    "        # x2 stores the rounded off value of (rcos(theta)+1000sin(theta)) \n",
    "        x2 = int(x0 - 1000*(-b)) \n",
    "\n",
    "        # y2 stores the rounded off value of (rsin(theta)-1000cos(theta)) \n",
    "        y2 = int(y0 - 1000*(a)) \n",
    "\n",
    "        # cv2.line draws a line in img from the point(x1,y1) to (x2,y2). \n",
    "        # (0,0,255) denotes the colour of the line to be  \n",
    "        #drawn. In this case, it is red. \n",
    "        #if isEdge(x1,y1,x2,y2,10)==False:\n",
    "        cv2.line(img_display,(x1,y1), (x2,y2), (0,0,255),1) \n",
    "    \n",
    "      \n",
    "# All the changes made in the input image are finally \n",
    "# written on a new image houghlines.jpg \n",
    "\n",
    "cv2.imwrite('linesDetected.jpg', img_display) \n",
    "\n"
   ]
  },
  {
   "cell_type": "code",
   "execution_count": null,
   "metadata": {},
   "outputs": [],
   "source": []
  },
  {
   "cell_type": "code",
   "execution_count": null,
   "metadata": {},
   "outputs": [],
   "source": []
  },
  {
   "cell_type": "code",
   "execution_count": null,
   "metadata": {},
   "outputs": [],
   "source": []
  }
 ],
 "metadata": {
  "kernelspec": {
   "display_name": "Python 2",
   "language": "python",
   "name": "python2"
  },
  "language_info": {
   "codemirror_mode": {
    "name": "ipython",
    "version": 2
   },
   "file_extension": ".py",
   "mimetype": "text/x-python",
   "name": "python",
   "nbconvert_exporter": "python",
   "pygments_lexer": "ipython2",
   "version": "2.7.15rc1"
  }
 },
 "nbformat": 4,
 "nbformat_minor": 2
}
