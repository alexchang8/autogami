{
 "cells": [
  {
   "cell_type": "code",
   "execution_count": 227,
   "metadata": {
    "scrolled": true
   },
   "outputs": [],
   "source": [
    "import cv2\n",
    "import numpy as np\n",
    "import matplotlib.pyplot as plt\n",
    "import random"
   ]
  },
  {
   "cell_type": "markdown",
   "metadata": {},
   "source": [
    "Define Functions"
   ]
  },
  {
   "cell_type": "code",
   "execution_count": 228,
   "metadata": {},
   "outputs": [
    {
     "ename": "SyntaxError",
     "evalue": "invalid syntax (<ipython-input-228-394e450ac86c>, line 23)",
     "output_type": "error",
     "traceback": [
      "\u001b[0;36m  File \u001b[0;32m\"<ipython-input-228-394e450ac86c>\"\u001b[0;36m, line \u001b[0;32m23\u001b[0m\n\u001b[0;31m    print \"OUTPUT\" + str(np.sum(view)) + \" \" + str(pvote)\u001b[0m\n\u001b[0m                 ^\u001b[0m\n\u001b[0;31mSyntaxError\u001b[0m\u001b[0;31m:\u001b[0m invalid syntax\n"
     ]
    }
   ],
   "source": [
    "def isSegment(p1,p2, bin_im, ksize, sample_num, pvote, cvote):\n",
    "    x1, y1 = p1\n",
    "    x2, y2 = p2\n",
    "    \n",
    "    x1, x2, y1, y2 = int(x1), int(x2), int(y1), int(y2)\n",
    "    \n",
    "    x_disp = x2- x1\n",
    "    y_disp = y2- y1\n",
    "    \n",
    "    x_step = x_disp // (sample_num + 1)\n",
    "    y_step = y_disp // (sample_num + 1)\n",
    "    \n",
    "    vote = 0\n",
    "\n",
    "    for mult in range(1, sample_num + 1):  \n",
    "        xc, yc = x1 + mult*x_step, y1 + mult*y_step\n",
    "        view = bin_im[xc - ksize: xc + ksize, yc - ksize: yc + ksize]\n",
    "         \n",
    "        color = (0,255,0)\n",
    "        if np.sum(view) >= pvote:\n",
    "            vote += 1 \n",
    "            color = (0,0,255)\n",
    "        print(\"OUTPUT\" + str(np.sum(view)) + \" \" + str(pvote))\n",
    "        cv2.circle(im_display, (int(xc), int(yc)), 6, color, thickness=1, lineType=8, shift=0) \n",
    "\n",
    "#     print(\"OUTPUT\",vote, cvote)\n",
    "    return vote >= cvote"
   ]
  },
  {
   "cell_type": "code",
   "execution_count": 195,
   "metadata": {},
   "outputs": [],
   "source": [
    "def getCorners(img):   \n",
    "    gray = np.float32(img)\n",
    "    dst = cv2.cornerHarris(gray,2,3,0.04)\n",
    "    ret, dst = cv2.threshold(dst,0.1*dst.max(),255,0)\n",
    "    dst = np.uint8(dst)\n",
    "    ret, labels, stats, centroids = cv2.connectedComponentsWithStats(dst)\n",
    "    criteria = (cv2.TERM_CRITERIA_EPS + cv2.TERM_CRITERIA_MAX_ITER, 100, 0.001)\n",
    "    corners = cv2.cornerSubPix(gray,np.float32(centroids),(5,5),(-1,-1),criteria)\n",
    "    \n",
    "    return corners"
   ]
  },
  {
   "cell_type": "code",
   "execution_count": 196,
   "metadata": {},
   "outputs": [],
   "source": [
    "def getSegments(img, corners, ksize, sample_num, pvote, cvote):\n",
    "    segments = []\n",
    "\n",
    "    for i in range(len(corners)):\n",
    "        for j in range(i + 1, len(corners)):\n",
    "            c1, c2 = corners[i], corners[j]\n",
    "            if isSegment(c1, c2, img, ksize, sample_num, pvote, cvote):\n",
    "                segments.append((tuple(c1), tuple(c2)))\n",
    "    \n",
    "            break\n",
    "        \n",
    "        break\n",
    "        \n",
    "    return segments\n"
   ]
  },
  {
   "cell_type": "markdown",
   "metadata": {},
   "source": [
    "## Test Functions"
   ]
  },
  {
   "cell_type": "markdown",
   "metadata": {},
   "source": [
    "##### hyperparameters"
   ]
  },
  {
   "cell_type": "code",
   "execution_count": 215,
   "metadata": {},
   "outputs": [],
   "source": [
    "KSIZE = 2\n",
    "PVOTE = 3\n",
    "CVOTE = 3\n",
    "SAMPLE_NUM = 15\n",
    "\n",
    "img_directory = \"images/\""
   ]
  },
  {
   "cell_type": "markdown",
   "metadata": {},
   "source": [
    "##### test script"
   ]
  },
  {
   "cell_type": "code",
   "execution_count": 218,
   "metadata": {},
   "outputs": [
    {
     "name": "stdout",
     "output_type": "stream",
     "text": [
      "12561\n"
     ]
    },
    {
     "data": {
      "image/png": "[encoded data removed]",
      "text/plain": [
       "<Figure size 432x288 with 1 Axes>"
      ]
     },
     "metadata": {
      "needs_background": "light"
     },
     "output_type": "display_data"
    }
   ],
   "source": [
    "im = cv2.imread(img_directory + \"frog.png\")\n",
    "im_display = np.zeros(im.shape, dtype = np.uint8)\n",
    "im_display.fill(255)\n",
    "im = cv2.cvtColor(im, cv2.COLOR_BGR2GRAY)\n",
    "\n",
    "# \"Preps Image to be displayed\" - Lillian\n",
    "\n",
    "im = np.invert(im)\n",
    "\n",
    "im[im > 10] = 1\n",
    "im[im != 1] = 0\n",
    "plt.imshow(im)\n",
    "\n",
    "print(np.sum(im))\n"
   ]
  },
  {
   "cell_type": "code",
   "execution_count": 217,
   "metadata": {},
   "outputs": [
    {
     "name": "stdout",
     "output_type": "stream",
     "text": [
      "OUTPUT10 3\n",
      "OUTPUT10 3\n",
      "OUTPUT10 3\n",
      "OUTPUT10 3\n",
      "OUTPUT10 3\n",
      "OUTPUT10 3\n",
      "OUTPUT10 3\n",
      "OUTPUT10 3\n",
      "OUTPUT10 3\n",
      "OUTPUT10 3\n",
      "OUTPUT10 3\n",
      "OUTPUT10 3\n",
      "OUTPUT10 3\n",
      "OUTPUT10 3\n",
      "OUTPUT10 3\n",
      "OUTPUT4 3\n",
      "OUTPUT0 3\n",
      "OUTPUT0 3\n",
      "OUTPUT0 3\n",
      "OUTPUT0 3\n",
      "OUTPUT0 3\n",
      "OUTPUT0 3\n",
      "OUTPUT0 3\n",
      "OUTPUT0 3\n",
      "OUTPUT0 3\n",
      "OUTPUT0 3\n",
      "OUTPUT0 3\n",
      "OUTPUT0 3\n",
      "OUTPUT2 3\n",
      "OUTPUT3 3\n"
     ]
    },
    {
     "data": {
      "text/plain": [
       "True"
      ]
     },
     "execution_count": 217,
     "metadata": {},
     "output_type": "execute_result"
    }
   ],
   "source": [
    "\n",
    "cv2.imwrite(img_directory + \"frogcorners.png\", im)\n",
    "\n",
    "corners = getCorners(im)\n",
    "segments = getSegments(im, corners, ksize = KSIZE, sample_num = SAMPLE_NUM, pvote = PVOTE, cvote = CVOTE)\n",
    "\n",
    "\n",
    "# print(\"DETECTED SEGMENTS\")\n",
    "# for i in segments:\n",
    "#     cv2.line(im_display, i[0], i[1], (0,0,255),1) \n",
    "\n",
    "# # cv2.line(im_display, segments[1][0], segments[1][1], (0,255,0), 3)\n",
    "\n",
    "# cv2.line(im_display, segments[1][0], segments[1][1], (0,255,0), 3)\n",
    "\n",
    "    # print(\"(\"+ str(i) +\",\"+str(segments.get(i))+\")\")\n",
    "\n",
    "# cv2.circle(im_display, (int(196.46725), int(197.349)), 2, (0,255,0), thickness=1, lineType=8, shift=0) \n",
    "\n",
    "test = isSegment((1.6140463, 199.0812),(196.46725, 197.349 ), im, ksize = KSIZE, sample_num = SAMPLE_NUM, pvote = PVOTE, cvote = CVOTE)\n",
    "#print test\n",
    "\n",
    "cv2.imwrite(img_directory + \"cornersdisplay\" + str(KSIZE) +  str(PVOTE) + str(CVOTE) + str(SAMPLE_NUM) + \".png\", im_display)\n"
   ]
  },
  {
   "cell_type": "code",
   "execution_count": null,
   "metadata": {},
   "outputs": [],
   "source": []
  },
  {
   "cell_type": "code",
   "execution_count": null,
   "metadata": {},
   "outputs": [],
   "source": []
  },
  {
   "cell_type": "code",
   "execution_count": null,
   "metadata": {},
   "outputs": [],
   "source": []
  },
  {
   "cell_type": "code",
   "execution_count": null,
   "metadata": {},
   "outputs": [],
   "source": []
  }
 ],
 "metadata": {
  "kernelspec": {
   "display_name": "Python 3",
   "language": "python",
   "name": "python3"
  },
  "language_info": {
   "codemirror_mode": {
    "name": "ipython",
    "version": 3
   },
   "file_extension": ".py",
   "mimetype": "text/x-python",
   "name": "python",
   "nbconvert_exporter": "python",
   "pygments_lexer": "ipython3",
   "version": "3.6.5"
  }
 },
 "nbformat": 4,
 "nbformat_minor": 2
}
