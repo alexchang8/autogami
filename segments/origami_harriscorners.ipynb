{
 "cells": [
  {
   "cell_type": "code",
   "execution_count": 249,

   "metadata": {
    "scrolled": true
   },
   "outputs": [],
   "source": [
    "import cv2\n",
    "import numpy as np\n",
    "import matplotlib.pyplot as plt\n",
    "import random\n",
    "from skimage.feature import corner_harris, corner_peaks\n",
    "from sklearn.cluster import DBSCAN"
   ]
  },
  {
   "cell_type": "markdown",
   "metadata": {},
   "source": [
    "Define Functions"
   ]
  },
  {
   "cell_type": "code",
   "execution_count": 250,

   "metadata": {},
   "outputs": [],
   "source": [
    "def isSegment(p1,p2, bin_im, ksize, sample_num, pvote, cvote):\n",
    "    x1, y1 = p1\n",
    "    x2, y2 = p2\n",
    "    \n",
    "    x1, x2, y1, y2 = int(x1), int(x2), int(y1), int(y2)\n",
    "    \n",
    "    x_disp = abs(x2 - x1)\n",
    "    y_disp = abs(y2 - y1)\n",
    "    \n",
    "    x_step = x_disp / (sample_num + 1)\n",
    "    y_step = y_disp / (sample_num + 1)\n",
    "    \n",
    "    vote = 0\n",
    "    \n",
    "    xstart = 0\n",
    "    ystart = 0\n",
    "    if x2 >= x1:\n",
    "        xstart = x1\n",
    "        ystart = y1\n",
    "        if y2 < y1:\n",
    "            y_step = -y_step\n",
    "    else:\n",
    "        xstart = x2\n",
    "        ystart = y2\n",
    "        if y2 > y1:\n",
    "            y_step = -y_step\n",
    "        \n",
    "    \n",
    "\n",
    "    for mult in range(1, sample_num + 1):  \n",
    "        xc, yc = int(xstart + mult*x_step), int(ystart + mult*y_step)\n",
    "        view = bin_im[xc - ksize: xc + ksize, yc - ksize: yc + ksize]\n",
    "         \n",
    "        color = (0,255,0)\n",
    "        if np.sum(view) >= pvote:\n",
    "            vote += 1 \n",
    "            color = (0,0,255)\n",
    "#             print \"OUTPUT\" + str(np.sum(view)) + \" \" + str(pvote)\n",
    "#         cv2.circle(im_display, (int(xc), int(yc)), ksize, color, thickness=1, lineType=8, shift=0) \n",
    "\n",
    "#     print(\"OUTPUT\",vote, cvote)\n",
    "    return vote >= cvote"
   ]
  },
  {
   "cell_type": "code",

   "execution_count": 580,

   "metadata": {},
   "outputs": [],
   "source": [
    "def getCorners(img):   \n",
    "    gray = np.float32(img)\n",
    "    dst = cv2.cornerHarris(gray,2,3,0.04)\n",
    "    ret, dst = cv2.threshold(dst,0.1*dst.max(),255,0)\n",
    "    dst = np.uint8(dst)\n",
    "    ret, labels, stats, centroids = cv2.connectedComponentsWithStats(dst)\n",
    "    criteria = (cv2.TERM_CRITERIA_EPS + cv2.TERM_CRITERIA_MAX_ITER, 100, 0.001)\n",
    "    corners = cv2.cornerSubPix(gray,np.float32(centroids),(5,5),(-1,-1),criteria)\n",
    "    dst = cv2.dilate(dst,None)\n",
    "\n",
    "    return corners"
   ]
  },
  {
   "cell_type": "code",

   "execution_count": 581,
   "metadata": {},
   "outputs": [],
   "source": [
    "def getSegments(img, corners, ksize, sample_num, pvote, cvote):\n",
    "    segment = []\n",
    "    for i in range(len(corners)):\n",
    "        for j in range(i+1,len(corners)):\n",
    "            c1,c2 = tuple(corners[i]), tuple(corners[j])\n",
    "            if isSegment(c1, c2, img, ksize, sample_num, pvote, cvote): \n",
    "                segment.append((c1,c2))\n",
    "#                   segments.append((tuple(c1), tuple(c2)))\n",
    "#                \n",
    "#     print \"segment length:\"+str(len(segment))\n",
    "    return segment\n"
   ]
  },
  {
   "cell_type": "code",
   "execution_count": 265,
   "metadata": {},
   "outputs": [],
   "source": [
    "def pointCluster(points):\n",
    "    clusters = DBSCAN(eps=6, min_samples=2).fit(points)\n",
    "    \n",
    "    labels = clusters.labels_#classes (integers)\n",
    "    comp = points\n",
    "    \n",
    "    print(\"labels\", len(labels))\n",
    "    print(\"comp\", len(comp))\n",
    "    \n",
    "    labelSum = {}\n",
    "    for i, l in enumerate(labels):\n",
    "        point = comp[i]\n",
    "        \n",
    "        c = 0\n",
    "        n = (0.0, 0.0)\n",
    "        if l == -1:\n",
    "            labelSum[-1 * i] = (comp[i], 1)\n",
    "            \n",
    "        if l in labelSum:\n",
    "            n, c = labelSum.get(l)\n",
    "        \n",
    "        c+=1\n",
    "        \n",
    "        nn = (point[0] + n[0], point[1] + n[1])\n",
    "        \n",
    "\n",
    "        labelSum[l] = (nn, c)\n",
    "    \n",
    "    corners = []\n",
    "    for label, t in labelSum.items():\n",
    "        center = (int(t[0][0] / t[1]), int(t[0][1] / t[1]))\n",
    "        corners.append(center)\n",
    "    return corners\n",
    "        \n",
    "        "
   ]
  },
  {
   "cell_type": "markdown",
   "metadata": {},
   "source": [
    "## Test Functions"
   ]
  },
  {
   "cell_type": "markdown",
   "metadata": {},
   "source": [
    "##### hyperparameters"
   ]
  },
  {
   "cell_type": "code",
   "execution_count": 266,
   "metadata": {},
   "outputs": [],
   "source": [
    "#BEST IS 3, 5, 18, 25\n",
    "\n",
    "KSIZE = 4\n",
    "PVOTE = 5\n",
    "CVOTE = 18\n",
    "SAMPLE_NUM = 25\n",
    "\n",
    "img_directory = \"images/\""
   ]
  },
  {
   "cell_type": "code",
   "execution_count": 591,
   "metadata": {},
   "outputs": [],
   "source": [
    "def getFinalSegments(im):\n",
    "    im_display = np.zeros(im.shape, dtype = np.uint8)\n",
    "    im_display.fill(255)\n",
    "    im = cv2.cvtColor(im, cv2.COLOR_BGR2GRAY)\n",
    "    # im_display = im.copy()\n",
    "\n",
    "    im_orig = im.copy()\n",
    "\n",
    "    # \"Preps Image to be displayed\" - Lillian\n",
    "\n",
    "    im = np.invert(im)\n",
    "    im[im > 10] = 1\n",
    "    im[im != 1] = 0\n",
    "\n",
    "    corners = corner_peaks(corner_harris(im_orig, k=0.2))\n",
    "    corners = pointCluster(corners)\n",
    "    segments = getSegments(im, corners, ksize = KSIZE, sample_num = SAMPLE_NUM, pvote = PVOTE, cvote = CVOTE)\n",
    "\n",
    "    w, h = im.shape\n",
    "\n",
    "    final_seg = []\n",
    "    for c1,c2 in segments:\n",
    "        x1,y1 = c1\n",
    "        x2,y2 = c2\n",
    "        if not(( x1<10 and x2<10) or (x1>w-10 and x2>w-10) or (y1 < 10 and y2 < 10)or (y1>h-10 and y2>h-10)):\n",
    "            final_seg.append((c1, c2))\n",
    "#             cv2.line(im_display, c1, c2, (0,0,255),1) \n",
    "\n",
    "    return final_seg\n"
   ]
  },
  {
   "cell_type": "markdown",
   "metadata": {},
   "source": [
    "##### test script"
   ]
  },
  {
   "cell_type": "code",
   "execution_count": 267,
   "metadata": {
    "scrolled": true
   },
   "outputs": [
    {
     "name": "stdout",
     "output_type": "stream",
     "text": [
      "('labels', 48)\n",
      "('comp', 48)\n",
      "[((3, 199), (57, 144)), ((3, 199), (57, 253)), ((3, 199), (57, 199)), ((3, 199), (341, 199)), ((3, 199), (395, 199)), ((3, 199), (199, 199)), ((57, 144), (57, 253)), ((57, 144), (57, 199)), ((57, 144), (340, 253)), ((57, 144), (4, 4)), ((57, 144), (199, 199)), ((57, 253), (57, 199)), ((57, 253), (340, 144)), ((57, 253), (4, 394)), ((57, 253), (199, 199)), ((57, 199), (341, 199)), ((57, 199), (395, 199)), ((57, 199), (199, 199)), ((144, 57), (199, 3)), ((144, 57), (199, 57)), ((144, 57), (253, 57)), ((144, 57), (253, 340)), ((144, 57), (4, 4)), ((144, 57), (199, 199)), ((144, 340), (199, 395)), ((144, 340), (199, 341)), ((144, 340), (253, 57)), ((144, 340), (253, 340)), ((144, 340), (4, 394)), ((144, 340), (199, 199)), ((199, 3), (199, 395)), ((199, 3), (199, 57)), ((199, 3), (199, 341)), ((199, 3), (253, 57)), ((199, 3), (199, 199)), ((199, 395), (199, 57)), ((199, 395), (199, 341)), ((199, 395), (253, 340)), ((199, 395), (199, 199)), ((199, 57), (199, 341)), ((199, 57), (253, 57)), ((199, 57), (199, 199)), ((199, 341), (253, 340)), ((199, 341), (199, 199)), ((253, 57), (394, 4)), ((253, 57), (199, 199)), ((253, 340), (394, 394)), ((253, 340), (199, 199)), ((340, 144), (340, 253)), ((340, 144), (341, 199)), ((340, 144), (395, 199)), ((340, 144), (394, 4)), ((340, 144), (199, 199)), ((340, 253), (341, 199)), ((340, 253), (395, 199)), ((340, 253), (394, 394)), ((340, 253), (199, 199)), ((341, 199), (395, 199)), ((341, 199), (199, 199)), ((395, 199), (199, 199)), ((394, 394), (4, 4)), ((394, 394), (199, 199)), ((394, 4), (4, 394)), ((394, 4), (199, 199)), ((4, 394), (199, 199)), ((4, 4), (199, 199))]\n"
     ]
    }
   ],
   "source": [

    "im = cv2.imread(\"/Users/noahthompson/CS/origami/papershaper/static/img/creases/dragon.jpg\")\n",
    "im_display = np.zeros(im.shape, dtype = np.uint8)\n",
    "im_display.fill(255)\n",
    "im = cv2.cvtColor(im, cv2.COLOR_BGR2GRAY)\n",
    "# im_display = im.copy()\n",
    "\n",
    "im_orig = im.copy()\n",
    "\n",
    "# \"Preps Image to be displayed\" - Lillian\n",
    "\n",
    "im = np.invert(im)\n",
    "im[im > 5] = 1\n",
    "im[im != 1] = 0\n",
    "\n",

    "\n"
   ]
  },
  {
   "cell_type": "code",

   "execution_count": 585,
   "metadata": {},
   "outputs": [
    {
     "name": "stdout",
     "output_type": "stream",
     "text": [

      "1249997\n"


     ]
    },
    {
     "data": {
      "text/plain": [
       "<Figure size 432x288 with 1 Axes>"
      ]
     },
     "metadata": {},
     "output_type": "display_data"
    }
   ],
   "source": []
  },
  {
   "cell_type": "code",
   "execution_count": 269,

   "metadata": {},
   "outputs": [
    {
     "name": "stdout",
     "output_type": "stream",
     "text": [

     ]
    },
    {
     "data": {
      "text/plain": [
       "True"
      ]
     },
     "execution_count": 269,

     "metadata": {},
     "output_type": "execute_result"
    }
   ],
   "source": [
<<<<<<< HEAD
    "# corners = getCorners(im_orig)\n",
    "corners = corner_peaks(corner_harris(im_orig, k=0.2))\n",
    "corners = pointCluster(corners)\n",
    "segments = getSegments(im, corners, ksize = KSIZE, sample_num = SAMPLE_NUM, pvote = PVOTE, cvote = CVOTE)\n",
    "\n",
    "print(len(corners))\n",
    "\n",
    "# for c in corners:\n",
    "#     print c\n",
    "# print(\"DETECTED SEGMENTS\")\n",
    "for c1,c2 in segments:\n",
    "    cv2.line(im_display, c1, c2, (0,0,255),1) \n",
    "\n",
    "    \n",
    "for c1, c2 in segments:\n",
    "    if c1 == segments[1][1] or c2 == segments[1][1]:\n",
    "        print(\"Points:\", c1, c2)\n",
    "\n",
    "\n",
    "# # cv2.line(im_display, segments[1][0], segments[1][1], (0,255,0), 3)\n",
    "\n",
    "# cv2.line(im_display, segments[1][0], segments[1][1], (0,255,0), 3)\n",
    "\n",
    "    # print(\"(\"+ str(i) +\",\"+str(segments.get(i))+\")\")\n",
    "\n",
    "# cv2.circle(im_display, (int(196.46725), int(197.349)), 2, (0,255,0), thickness=1, lineType=8, shift=0) \n",
    "# test = isSegment((395.45193, 2),(340.5281, 256.2259), im, ksize = KSIZE, sample_num = SAMPLE_NUM, pvote = PVOTE, cvote = CVOTE)\n",
    "# test = isSegment((395.45193, 200),(340.5281, 256.2259), im, ksize = KSIZE, sample_num = SAMPLE_NUM, pvote = PVOTE, cvote = CVOTE)\n",
    "# #print test\n",
    "\n",
    "cv2.imwrite(img_directory + \"crane\" + str(KSIZE) +  str(PVOTE) + str(CVOTE) + str(SAMPLE_NUM) + \".png\", im_display)\n"
   ]
  },
  {
   "cell_type": "code",
   "execution_count": null,
   "metadata": {},
   "outputs": [],
   "source": [
    "# ('labels', 144)\n",
    "# ('comp', 144)\n",
    "# 76\n",
    "# Points: (7, 336) (8, 952)\n",
    "# Points: (11, 584) (8, 952)\n",
    "# Points: (168, 574) (8, 952)\n",
    "# Points: (205, 502) (8, 952)\n",
    "# Points: (315, 829) (8, 952)"
=======
    "\n",
    "# cv2.imwrite(img_directory + \"frogoo_edge\" + str(KSIZE) +  str(PVOTE) + str(CVOTE) + str(SAMPLE_NUM) + \".png\", im_display)\n"
>>>>>>> lillian
   ]
  },
  {
   "cell_type": "code",
   "execution_count": null,
   "metadata": {},
   "outputs": [],
   "source": []
  },
  {
   "cell_type": "code",
   "execution_count": null,
   "metadata": {},
   "outputs": [],
   "source": []
  },
  {
   "cell_type": "code",
   "execution_count": null,
   "metadata": {},
   "outputs": [],
   "source": []
  },
  {
   "cell_type": "code",
   "execution_count": null,
   "metadata": {},
   "outputs": [],
   "source": []
  }
 ],
 "metadata": {
  "kernelspec": {
   "display_name": "Python 3",
   "language": "python",
   "name": "python3"
  },
  "language_info": {
   "codemirror_mode": {
    "name": "ipython",
    "version": 3
   },
   "file_extension": ".py",
   "mimetype": "text/x-python",
   "name": "python",
   "nbconvert_exporter": "python",
   "pygments_lexer": "ipython3",
   "version": "3.6.5"
  }
 },
 "nbformat": 4,
 "nbformat_minor": 2
}
