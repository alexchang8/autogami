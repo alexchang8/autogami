{
 "cells": [
  {
   "cell_type": "code",
   "execution_count": 410,
   "metadata": {
    "scrolled": true
   },
   "outputs": [],
   "source": [
    "import cv2\n",
    "import numpy as np\n",
    "import matplotlib.pyplot as plt\n",
    "import random\n",
    "from skimage.feature import corner_harris, corner_peaks\n",
    "from sklearn.cluster import DBSCAN"
   ]
  },
  {
   "cell_type": "markdown",
   "metadata": {},
   "source": [
    "Define Functions"
   ]
  },
  {
   "cell_type": "code",
   "execution_count": 422,
   "metadata": {},
   "outputs": [],
   "source": [
    "def isSegment(p1,p2, bin_im, ksize, sample_num, pvote, cvote):\n",
    "    x1, y1 = p1\n",
    "    x2, y2 = p2\n",
    "    \n",
    "    x1, x2, y1, y2 = int(x1), int(x2), int(y1), int(y2)\n",
    "    \n",
    "    x_disp = abs(x2 - x1)\n",
    "    y_disp = abs(y2 - y1)\n",
    "    \n",
    "    x_step = x_disp / (sample_num + 1)\n",
    "    y_step = y_disp / (sample_num + 1)\n",
    "    \n",
    "    vote = 0\n",
    "    \n",
    "    xstart = 0\n",
    "    ystart = 0\n",
    "    if x2 >= x1:\n",
    "        xstart = x1\n",
    "        ystart = y1\n",
    "        if y2 < y1:\n",
    "            y_step = -y_step\n",
    "    else:\n",
    "        xstart = x2\n",
    "        ystart = y2\n",
    "        if y2 > y1:\n",
    "            y_step = -y_step\n",
    "        \n",
    "    \n",
    "\n",
    "    for mult in range(1, sample_num + 1):  \n",
    "        xc, yc = int(xstart + mult*x_step), int(ystart + mult*y_step)\n",
    "        view = bin_im[xc - ksize: xc + ksize, yc - ksize: yc + ksize]\n",
    "         \n",
    "        color = (0,255,0)\n",
    "        if np.sum(view) >= pvote:\n",
    "            vote += 1 \n",
    "            color = (0,0,255)\n",
    "#             print \"OUTPUT\" + str(np.sum(view)) + \" \" + str(pvote)\n",
    "#         cv2.circle(im_display, (int(xc), int(yc)), ksize, color, thickness=1, lineType=8, shift=0) \n",
    "\n",
    "#     print(\"OUTPUT\",vote, cvote)\n",
    "    return vote >= cvote"
   ]
  },
  {
   "cell_type": "code",
   "execution_count": 423,
   "metadata": {},
   "outputs": [],
   "source": [
    "def getCorners(img):   \n",
    "    gray = np.float32(img)\n",
    "    dst = cv2.cornerHarris(gray,2,3,0.04)\n",
    "    ret, dst = cv2.threshold(dst,0.1*dst.max(),255,0)\n",
    "    dst = np.uint8(dst)\n",
    "    ret, labels, stats, centroids = cv2.connectedComponentsWithStats(dst)\n",
    "    criteria = (cv2.TERM_CRITERIA_EPS + cv2.TERM_CRITERIA_MAX_ITER, 100, 0.001)\n",
    "    corners = cv2.cornerSubPix(gray,np.float32(centroids),(5,5),(-1,-1),criteria)\n",
    "    dst = cv2.dilate(dst,None)\n",
    "\n",
    "    return corners"
   ]
  },
  {
   "cell_type": "code",
   "execution_count": 424,
   "metadata": {},
   "outputs": [],
   "source": [
    "def getSegments(img, corners, ksize, sample_num, pvote, cvote):\n",
    "    segment = []\n",
    "    for i in range(len(corners)):\n",
    "        for j in range(i+1,len(corners)):\n",
    "            c1,c2 = tuple(corners[i]), tuple(corners[j])\n",
    "            if isSegment(c1, c2, img, ksize, sample_num, pvote, cvote): \n",
    "                segment.append((c1,c2))\n",
    "#                   segments.append((tuple(c1), tuple(c2)))\n",
    "#                \n",
    "#     print \"segment length:\"+str(len(segment))\n",
    "    return segment\n"
   ]
  },
  {
   "cell_type": "code",
   "execution_count": 442,
   "metadata": {},
   "outputs": [],
   "source": [
    "def pointCluster(points):\n",
    "    clusters = DBSCAN(eps=4, min_samples=2).fit(points)\n",
    "    \n",
    "    labels = clusters.labels_#classes (integers)\n",
    "    comp = points\n",
    "    \n",
    "    print(\"labels\", len(labels))\n",
    "    print(\"comp\", len(comp))\n",
    "    \n",
    "    labelSum = {}\n",
    "    for i, l in enumerate(labels):\n",
    "        point = comp[i]\n",
    "        \n",
    "        c = 0\n",
    "        n = (0.0, 0.0)\n",
    "        if l == -1:\n",
    "            labelSum[-1 * i] = (comp[i], 1)\n",
    "            \n",
    "        if l in labelSum:\n",
    "            n, c = labelSum.get(l)\n",
    "        \n",
    "        c+=1\n",
    "        \n",
    "        nn = (point[0] + n[0], point[1] + n[1])\n",
    "        \n",
    "\n",
    "        labelSum[l] = (nn, c)\n",
    "    \n",
    "    corners = []\n",
    "    for label, t in labelSum.iteritems():\n",
    "        center = (int(t[0][0] / t[1]), int(t[0][1] / t[1]))\n",
    "        corners.append(center)\n",
    "    return corners\n",
    "        \n",
    "        "
   ]
  },
  {
   "cell_type": "markdown",
   "metadata": {},
   "source": [
    "## Test Functions"
   ]
  },
  {
   "cell_type": "markdown",
   "metadata": {},
   "source": [
    "##### hyperparameters"
   ]
  },
  {
   "cell_type": "code",
   "execution_count": 459,
   "metadata": {},
   "outputs": [],
   "source": [
    "#BEST IS 3, 5, 18, 25\n",
    "\n",
    "KSIZE = 4\n",
    "PVOTE = 5\n",
    "CVOTE = 18\n",
    "SAMPLE_NUM = 25\n",
    "\n",
    "img_directory = \"images/\""
   ]
  },
  {
   "cell_type": "markdown",
   "metadata": {},
   "source": [
    "##### test script"
   ]
  },
  {
   "cell_type": "code",
   "execution_count": 471,
   "metadata": {
    "scrolled": true
   },
   "outputs": [],
   "source": [
    "im = cv2.imread(img_directory + \"butterfly_CP.jpg\")\n",
    "im_display = np.zeros(im.shape, dtype = np.uint8)\n",
    "im_display.fill(255)\n",
    "im = cv2.cvtColor(im, cv2.COLOR_BGR2GRAY)\n",
    "# im_display = im.copy()\n",
    "\n",
    "im_orig = im.copy()\n",
    "\n",
    "# \"Preps Image to be displayed\" - Lillian\n",
    "\n",
    "im = np.invert(im)\n",
    "im[im > 200] = 1\n",
    "im[im != 1] = 0\n",
    "\n",
    "\n"
   ]
  },
  {
   "cell_type": "code",
   "execution_count": 472,
   "metadata": {},
   "outputs": [
    {
     "name": "stdout",
     "output_type": "stream",
     "text": [
      "14904\n"
     ]
    },
    {
     "data": {
      "image/png": "[encoded data removed]",
      "text/plain": [
       "<Figure size 432x288 with 1 Axes>"
      ]
     },
     "metadata": {
      "needs_background": "light"
     },
     "output_type": "display_data"
    }
   ],
   "source": [
    "plt.imshow(im)\n",
    "print(np.sum(im))"
   ]
  },
  {
   "cell_type": "code",
   "execution_count": 463,
   "metadata": {},
   "outputs": [
    {
     "name": "stdout",
     "output_type": "stream",
     "text": [
      "('labels', 48)\n",
      "('comp', 48)\n",
      "21\n"
     ]
    },
    {
     "data": {
      "text/plain": [
       "True"
      ]
     },
     "execution_count": 463,
     "metadata": {},
     "output_type": "execute_result"
    }
   ],
   "source": [
    "# corners = getCorners(im_orig)\n",
    "corners = corner_peaks(corner_harris(im_orig, k=0.2))\n",
    "corners = pointCluster(corners)\n",
    "segments = getSegments(im, corners, ksize = KSIZE, sample_num = SAMPLE_NUM, pvote = PVOTE, cvote = CVOTE)\n",
    "\n",
    "print(len(corners))\n",
    "\n",
    "# for c in corners:\n",
    "#     print c\n",
    "# print(\"DETECTED SEGMENTS\")\n",
    "for c1,c2 in segments:\n",
    "    cv2.line(im_display, c1, c2, (0,0,255),1) \n",
    "\n",
    "# for c1, c2 in segments:\n",
    "#     if c1 == segments[0][0] or c2 == segments[0][0]:\n",
    "#         print \"Points:\", c1, c2\n",
    "\n",
    "\n",
    "# # cv2.line(im_display, segments[1][0], segments[1][1], (0,255,0), 3)\n",
    "\n",
    "# cv2.line(im_display, segments[1][0], segments[1][1], (0,255,0), 3)\n",
    "\n",
    "    # print(\"(\"+ str(i) +\",\"+str(segments.get(i))+\")\")\n",
    "\n",
    "# cv2.circle(im_display, (int(196.46725), int(197.349)), 2, (0,255,0), thickness=1, lineType=8, shift=0) \n",
    "# test = isSegment((395.45193, 2),(340.5281, 256.2259), im, ksize = KSIZE, sample_num = SAMPLE_NUM, pvote = PVOTE, cvote = CVOTE)\n",
    "# test = isSegment((395.45193, 200),(340.5281, 256.2259), im, ksize = KSIZE, sample_num = SAMPLE_NUM, pvote = PVOTE, cvote = CVOTE)\n",
    "# #print test\n",
    "\n",
    "cv2.imwrite(img_directory + \"bfly\" + str(KSIZE) +  str(PVOTE) + str(CVOTE) + str(SAMPLE_NUM) + \".png\", im_display)\n"
   ]
  },
  {
   "cell_type": "code",
   "execution_count": null,
   "metadata": {},
   "outputs": [],
   "source": []
  },
  {
   "cell_type": "code",
   "execution_count": null,
   "metadata": {},
   "outputs": [],
   "source": []
  },
  {
   "cell_type": "code",
   "execution_count": null,
   "metadata": {},
   "outputs": [],
   "source": []
  },
  {
   "cell_type": "code",
   "execution_count": null,
   "metadata": {},
   "outputs": [],
   "source": []
  },
  {
   "cell_type": "code",
   "execution_count": null,
   "metadata": {},
   "outputs": [],
   "source": []
  }
 ],
 "metadata": {
  "kernelspec": {
   "display_name": "Python 2",
   "language": "python",
   "name": "python2"
  },
  "language_info": {
   "codemirror_mode": {
    "name": "ipython",
    "version": 2
   },
   "file_extension": ".py",
   "mimetype": "text/x-python",
   "name": "python",
   "nbconvert_exporter": "python",
   "pygments_lexer": "ipython2",
   "version": "2.7.15rc1"
  }
 },
 "nbformat": 4,
 "nbformat_minor": 2
}
